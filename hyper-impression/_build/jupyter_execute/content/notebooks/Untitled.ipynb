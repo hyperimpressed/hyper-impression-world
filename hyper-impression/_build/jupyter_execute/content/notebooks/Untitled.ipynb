{
 "cells": [
  {
   "cell_type": "markdown",
   "metadata": {},
   "source": [
    "# Durchführer\n",
    "\n",
    "Es ist bereits eine Leistung, sich zeitlich und mental zu ermöglichen in den (PlanerZustand)[Link zur Page dazu] zu gelangen, in dem eigene Probleme ohne emotionale Bewertung erkannt werden und rational Lösungspläne erarbeitet werden können.\n",
    "\n",
    "Jedoch ändert all das nicht das tatsächliche Leben, wenn diese Pläne nicht mit in den Alltag getragen werden. \\\n",
    "In diesem ist man gewöhnlich nicht so abgegrenzt von Emotionen, da man in Ausführungen vertieft oder Druck ausgesetzt ist.\n",
    "\n",
    "*So tue ich mich schwer, Fremde Menschen anzusprechen und erkenne dies als etwas, das ich abändern möchte.\\\n",
    "Planbewusstsein und neue Interpretation darüber, dass ich ohne negative Konsequenzen in solche Interaktionen gehen kann,\n",
    "ist zwar notwendig. \\\n",
    "Jedoch lösen sie nicht das Problem des angewohnten Gefühls und Denkprozesses in der* ***tatsächlichen Situation.***\n",
    "\n"
   ]
  },
  {
   "cell_type": "markdown",
   "metadata": {},
   "source": [
    "# Arbeit: Warten\n",
    "Ich bekomme das Gefühl, dass ich während der Zeit etwas anderes tun sollte/darf, da es sonst verschwendete Zeit ist.\\\n",
    "Ich müsste diese Zeit für das Finden der Achtsamkeit für mein Handeln verwenden.\n",
    "#### Multitasking ist schlecht für mich!"
   ]
  }
 ],
 "metadata": {
  "kernelspec": {
   "display_name": "Python 3",
   "language": "python",
   "name": "python3"
  },
  "language_info": {
   "codemirror_mode": {
    "name": "ipython",
    "version": 3
   },
   "file_extension": ".py",
   "mimetype": "text/x-python",
   "name": "python",
   "nbconvert_exporter": "python",
   "pygments_lexer": "ipython3",
   "version": "3.8.5"
  }
 },
 "nbformat": 4,
 "nbformat_minor": 4
}